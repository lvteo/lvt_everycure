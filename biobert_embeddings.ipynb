{
 "cells": [
  {
   "cell_type": "markdown",
   "metadata": {},
   "source": [
    "## This notebook is the baseline model using BioBert to generate embeddings"
   ]
  },
  {
   "cell_type": "code",
   "execution_count": 82,
   "metadata": {},
   "outputs": [],
   "source": [
    "import pandas as pd\n",
    "import dgl \n",
    "import torch\n",
    "import torch.nn as nn\n",
    "import torch.nn.functional as F\n",
    "import itertools\n",
    "import numpy as np\n",
    "# import scipy.sparse as sp\n",
    "from sklearn.preprocessing import LabelEncoder\n",
    "from sklearn.metrics import roc_auc_score\n",
    "from tqdm import tqdm\n",
    "\n",
    "from transformers import BertTokenizer, BertModel\n",
    "from transformers import BertConfig, BertForPreTraining, load_tf_weights_in_bert\n",
    "\n",
    "import matplotlib.pyplot as plt"
   ]
  },
  {
   "cell_type": "markdown",
   "metadata": {},
   "source": [
    "#### 0. Download BioBert from Repo\n",
    "\n",
    "I've not included this as part of my submission repo so this cell will need to be run to download the models"
   ]
  },
  {
   "cell_type": "code",
   "execution_count": 3,
   "metadata": {},
   "outputs": [],
   "source": [
    "!wget -O scibert_uncased.tar https://github.com/naver/biobert-pretrained/releases/download/v1.1-pubmed/biobert_v1.1_pubmed.tar.gz\n",
    "!tar -xvf scibert_uncased.tar\n",
    "!cp biobert_v1.1_pubmed/bert_config.json biobert_v1.1_pubmed/config.json"
   ]
  },
  {
   "cell_type": "code",
   "execution_count": 4,
   "metadata": {},
   "outputs": [
    {
     "name": "stdout",
     "output_type": "stream",
     "text": [
      "Building PyTorch model from configuration: BertConfig {\n",
      "  \"attention_probs_dropout_prob\": 0.1,\n",
      "  \"classifier_dropout\": null,\n",
      "  \"hidden_act\": \"gelu\",\n",
      "  \"hidden_dropout_prob\": 0.1,\n",
      "  \"hidden_size\": 768,\n",
      "  \"initializer_range\": 0.02,\n",
      "  \"intermediate_size\": 3072,\n",
      "  \"layer_norm_eps\": 1e-12,\n",
      "  \"max_position_embeddings\": 512,\n",
      "  \"model_type\": \"bert\",\n",
      "  \"num_attention_heads\": 12,\n",
      "  \"num_hidden_layers\": 12,\n",
      "  \"pad_token_id\": 0,\n",
      "  \"position_embedding_type\": \"absolute\",\n",
      "  \"transformers_version\": \"4.30.2\",\n",
      "  \"type_vocab_size\": 2,\n",
      "  \"use_cache\": true,\n",
      "  \"vocab_size\": 28996\n",
      "}\n",
      "\n"
     ]
    },
    {
     "name": "stderr",
     "output_type": "stream",
     "text": [
      "2025-01-05 22:27:09.427256: I tensorflow/core/platform/cpu_feature_guard.cc:193] This TensorFlow binary is optimized with oneAPI Deep Neural Network Library (oneDNN) to use the following CPU instructions in performance-critical operations:  AVX2 FMA\n",
      "To enable them in other operations, rebuild TensorFlow with the appropriate compiler flags.\n"
     ]
    },
    {
     "name": "stdout",
     "output_type": "stream",
     "text": [
      "Save PyTorch model to biobert_v1.1_pubmed/pytorch_model.bin\n"
     ]
    }
   ],
   "source": [
    "# Load biobert\n",
    "def convert_tf_checkpoint_to_pytorch(tf_checkpoint_path, bert_config_file, pytorch_dump_path):\n",
    "    # Initialise PyTorch model\n",
    "    config = BertConfig.from_json_file(bert_config_file)\n",
    "    print(\"Building PyTorch model from configuration: {}\".format(str(config)))\n",
    "    model = BertForPreTraining(config)\n",
    "\n",
    "    # Load weights from tf checkpoint\n",
    "    load_tf_weights_in_bert(model, config, tf_checkpoint_path)\n",
    "\n",
    "    # Save pytorch-model\n",
    "    print(\"Save PyTorch model to {}\".format(pytorch_dump_path))\n",
    "    torch.save(model.state_dict(), pytorch_dump_path)\n",
    "\n",
    "convert_tf_checkpoint_to_pytorch(\"biobert_v1.1_pubmed/model.ckpt-1000000\", \n",
    "                                 \"biobert_v1.1_pubmed/bert_config.json\", \n",
    "                                 \"biobert_v1.1_pubmed/pytorch_model.bin\")"
   ]
  },
  {
   "cell_type": "markdown",
   "metadata": {},
   "source": [
    "#### 1. Read in files, and reduce problem statement to only nodes present in ground truth \n",
    "\n",
    "I've limited the sample space due to computational limitations. It will only consider the nodes and edges that have been labelled from the ground truth file"
   ]
  },
  {
   "cell_type": "code",
   "execution_count": 5,
   "metadata": {},
   "outputs": [],
   "source": [
    "edges = pd.read_csv('input/Edges.csv', index_col=0)\n",
    "ground = pd.read_csv('processed/ground_split.csv')\n",
    "nodes = pd.read_csv('input/Nodes.csv', index_col=0)"
   ]
  },
  {
   "cell_type": "code",
   "execution_count": 6,
   "metadata": {},
   "outputs": [],
   "source": [
    "# get all node names in the ground truth\n",
    "unique_nodes = pd.DataFrame(set(ground.source).union(set(ground.target)), columns=['gt_nodes'])\n",
    "\n",
    "# reduce problem statement to only take nodes that are in the source or target from the ground truth \n",
    "baseline_nodes = pd.merge(left=unique_nodes, right=nodes, left_on='gt_nodes', right_on='id', how='inner')\n",
    "baseline_nodes = baseline_nodes[['id','name', 'category', 'description']]\n",
    "baseline_nodes = baseline_nodes.reset_index()\n",
    "\n",
    "# give new nodes a unique id - requirement of dgl\n",
    "# note: dgl has support for named nodes but I was having issues here due to special characters\n",
    "baseline_nodes_dict = dict(zip(baseline_nodes.id, baseline_nodes.index))"
   ]
  },
  {
   "cell_type": "code",
   "execution_count": 7,
   "metadata": {},
   "outputs": [],
   "source": [
    "# map ground truth source and target names to ids provided by baseline node dictionary\n",
    "ground.source = ground.source.apply(lambda x: baseline_nodes_dict[x])\n",
    "ground.target = ground.target.apply(lambda x: baseline_nodes_dict[x])"
   ]
  },
  {
   "cell_type": "markdown",
   "metadata": {},
   "source": [
    "#### 2. Split edges into train, test and validation sets"
   ]
  },
  {
   "cell_type": "code",
   "execution_count": 8,
   "metadata": {},
   "outputs": [],
   "source": [
    "# train set - positive and negative nodes and edges\n",
    "train_pos_u = np.array(ground[(ground.y==1) & (ground.split=='train')].source)\n",
    "train_pos_v = np.array(ground[(ground.y==1) & (ground.split=='train')].target)\n",
    "\n",
    "train_neg_u = np.array(ground[(ground.y==0) & (ground.split=='train')].source)\n",
    "train_neg_v = np.array(ground[(ground.y==0) & (ground.split=='train')].target)\n",
    "\n",
    "# val set - positive and negative nodes and edges\n",
    "val_pos_u = np.array(ground[(ground.y==1) & (ground.split=='val')].source)\n",
    "val_pos_v = np.array(ground[(ground.y==1) & (ground.split=='val')].target)\n",
    "\n",
    "val_neg_u = np.array(ground[(ground.y==0) & (ground.split=='val')].source)\n",
    "val_neg_v = np.array(ground[(ground.y==0) & (ground.split=='val')].target)\n",
    "\n",
    "# test set - positive and negative nodes and edges\n",
    "test_pos_u = np.array(ground[(ground.y==1) & (ground.split=='test')].source)\n",
    "test_pos_v = np.array(ground[(ground.y==1) & (ground.split=='test')].target)\n",
    "\n",
    "test_neg_u = np.array(ground[(ground.y==0) & (ground.split=='test')].source)\n",
    "test_neg_v = np.array(ground[(ground.y==0) & (ground.split=='test')].target)\n"
   ]
  },
  {
   "cell_type": "code",
   "execution_count": 9,
   "metadata": {},
   "outputs": [],
   "source": [
    "# reconstruct posive and negative graphs for train, test and validation\n",
    "train_pos_g = dgl.graph((train_pos_u, train_pos_v), num_nodes=len(unique_nodes))\n",
    "train_neg_g = dgl.graph((train_neg_u, train_neg_v), num_nodes=len(unique_nodes))\n",
    "\n",
    "val_pos_g = dgl.graph((val_pos_u, val_pos_v), num_nodes=len(unique_nodes))\n",
    "val_neg_g = dgl.graph((val_neg_u, val_neg_v), num_nodes=len(unique_nodes))\n",
    "\n",
    "test_pos_g = dgl.graph((test_pos_u, test_pos_v), num_nodes=len(unique_nodes))\n",
    "test_neg_g = dgl.graph((test_neg_u, test_neg_v), num_nodes=len(unique_nodes))"
   ]
  },
  {
   "cell_type": "markdown",
   "metadata": {},
   "source": [
    "#### 3. Feature Extraction on Nodes\n",
    "\n",
    "Features considered for this model are: \n",
    "\n",
    "1. Node type/category\n",
    "2. Node Name + Description as BoW vector"
   ]
  },
  {
   "cell_type": "code",
   "execution_count": 10,
   "metadata": {},
   "outputs": [],
   "source": [
    "# label encode category in baseline nodes\n",
    "label_encoder = LabelEncoder()\n",
    "baseline_nodes.category = label_encoder.fit_transform(baseline_nodes.category)"
   ]
  },
  {
   "cell_type": "code",
   "execution_count": 11,
   "metadata": {},
   "outputs": [],
   "source": [
    "# join name and description to get more information \n",
    "baseline_nodes.fillna('', inplace=True)\n",
    "baseline_nodes['full_description'] = baseline_nodes.name + ' ' + baseline_nodes.description\n",
    "baseline_nodes['full_description'] = baseline_nodes.full_description.apply(lambda x: x.replace('\"', ''))\n",
    "\n",
    "# Only take the first 1000 characters of the full description \n",
    "# note: this is due to computational limitations \n",
    "baseline_nodes.full_description = baseline_nodes.full_description.apply(lambda x: x[:50])"
   ]
  },
  {
   "cell_type": "code",
   "execution_count": 12,
   "metadata": {},
   "outputs": [
    {
     "name": "stderr",
     "output_type": "stream",
     "text": [
      "Some weights of the model checkpoint at biobert_v1.1_pubmed were not used when initializing BertModel: ['cls.predictions.bias', 'cls.predictions.decoder.bias', 'cls.seq_relationship.weight', 'cls.predictions.transform.dense.weight', 'cls.predictions.transform.LayerNorm.bias', 'cls.predictions.transform.dense.bias', 'cls.predictions.transform.LayerNorm.weight', 'cls.seq_relationship.bias', 'cls.predictions.decoder.weight']\n",
      "- This IS expected if you are initializing BertModel from the checkpoint of a model trained on another task or with another architecture (e.g. initializing a BertForSequenceClassification model from a BertForPreTraining model).\n",
      "- This IS NOT expected if you are initializing BertModel from the checkpoint of a model that you expect to be exactly identical (initializing a BertForSequenceClassification model from a BertForSequenceClassification model).\n"
     ]
    }
   ],
   "source": [
    "# load model\n",
    "model_version = 'biobert_v1.1_pubmed'\n",
    "do_lower_case = True\n",
    "model = BertModel.from_pretrained(model_version)\n",
    "tokenizer = BertTokenizer.from_pretrained(model_version)\n",
    "\n",
    "# function to call model and get sentence embeddings\n",
    "def embed_text(text, model):\n",
    "    n=1000\n",
    "\n",
    "    # this is the window for Bert, if the text is longer than 1700 characters then divide into sections \n",
    "    if len(text)>n:\n",
    "        text_divide = [text[i:i+n] for i in range(0, len(text), n)]\n",
    "    else:\n",
    "        text_divide = [[text]]\n",
    "\n",
    "    # print([len(t) for t in text_divide])\n",
    "        \n",
    "    output = []\n",
    "    for t in text_divide:\n",
    "        # print(len(text_divide))\n",
    "        input_ids = torch.tensor(tokenizer.encode(t)).unsqueeze(0)  # Batch size 1\n",
    "        outputs = model(input_ids)\n",
    "        last_hidden_states = outputs[0]  # The last hidden-state is the first element of the output tuple\n",
    "        output = output + [last_hidden_states.mean(1)]\n",
    "    return sum(output)/2\n",
    "\n",
    "def embed_text(text, model):\n",
    "    input_ids = torch.tensor(tokenizer.encode(text)).unsqueeze(0)  # Batch size 1\n",
    "    outputs = model(input_ids)\n",
    "    last_hidden_states = outputs[0]  # The last hidden-state is the first element of the output tuple\n",
    "    return last_hidden_states.mean(1)"
   ]
  },
  {
   "cell_type": "code",
   "execution_count": 13,
   "metadata": {},
   "outputs": [
    {
     "name": "stdout",
     "output_type": "stream",
     "text": [
      "CLOBETASONE BUTYRATE UMLS Semantic Type: UMLSSC:T1\n"
     ]
    }
   ],
   "source": [
    "text = baseline_nodes.iloc[127].full_description\n",
    "# embed_text(text, model)\n",
    "print(text)"
   ]
  },
  {
   "cell_type": "code",
   "execution_count": null,
   "metadata": {},
   "outputs": [],
   "source": [
    "# generate embeddings\n",
    "tqdm.pandas()\n",
    "baseline_nodes['full_description_emb'] = baseline_nodes.full_description.progress_apply(lambda x: embed_text(x, model))"
   ]
  },
  {
   "cell_type": "markdown",
   "metadata": {},
   "source": [
    "To utilise DGL's CSVDataset Class. Features must be saved under a single column named `feat`, consisting of a single 'array' saved as a string \n",
    "\n",
    "e.g. [Node Category, 5 word vector] -> \"1, 0.56, 0.90, 0.85, 0.12, 0.82\""
   ]
  },
  {
   "cell_type": "code",
   "execution_count": 73,
   "metadata": {},
   "outputs": [],
   "source": [
    "# format embeddings and features to format expected by dgl\n",
    "baseline_nodes['fde'] = baseline_nodes.full_description_emb.apply(lambda x: str(x.detach().numpy().flatten().tolist()))\n",
    "baseline_nodes['fde'] = baseline_nodes['fde'].apply(lambda x: x.replace('[', ''))\n",
    "baseline_nodes['fde'] = baseline_nodes['fde'].apply(lambda x: x.replace(']', ''))\n",
    "baseline_nodes.category = baseline_nodes.category.apply(str)\n",
    "baseline_nodes.iloc[1].fde\n",
    "\n",
    "def concat_string(cat, feat):\n",
    "    return cat + ', ' +feat\n",
    "\n",
    "baseline_nodes['feat'] = baseline_nodes.apply(lambda x: concat_string(x.category, x.fde), axis=1)\n",
    "# test = baseline_nodes.category + ', ', baseline_nodes.fde"
   ]
  },
  {
   "cell_type": "markdown",
   "metadata": {},
   "source": [
    "#### 4. Save nodes, features and edges to graph"
   ]
  },
  {
   "cell_type": "code",
   "execution_count": 74,
   "metadata": {},
   "outputs": [],
   "source": [
    "# save nodes and edges to baseline folder\n",
    "baseline_nodes.rename({'index':'node_id'}, axis=1)[['node_id', 'feat']].to_csv('processed/experiment/nodes.csv', index=0)\n",
    "ground[(ground.y==1)&(ground.split=='train')].rename({'source':'src_id', 'target':'dst_id'}, axis=1)[['src_id', 'dst_id']].to_csv('processed/experiment/edges.csv', index=0)"
   ]
  },
  {
   "cell_type": "code",
   "execution_count": 75,
   "metadata": {},
   "outputs": [
    {
     "name": "stdout",
     "output_type": "stream",
     "text": [
      "Done saving data into cached files.\n"
     ]
    }
   ],
   "source": [
    "# load into dgl dataset tensor\n",
    "dataset = dgl.data.CSVDataset('processed/baseline', force_reload=True)\n",
    "g = dataset[0]"
   ]
  },
  {
   "cell_type": "markdown",
   "metadata": {},
   "source": [
    "#### 5. Define model and predictor"
   ]
  },
  {
   "cell_type": "code",
   "execution_count": 76,
   "metadata": {},
   "outputs": [],
   "source": [
    "from dgl.nn import SAGEConv\n",
    "\n",
    "# build a two-layer GraphSAGE model\n",
    "class GraphSAGE(nn.Module):\n",
    "    def __init__(self, in_feats, h_feats):\n",
    "        super(GraphSAGE, self).__init__()\n",
    "        self.conv1 = SAGEConv(in_feats, h_feats, \"mean\")\n",
    "        self.conv2 = SAGEConv(h_feats, h_feats, \"mean\")\n",
    "\n",
    "    def forward(self, g, in_feat):\n",
    "        h = self.conv1(g, in_feat)\n",
    "        h = F.relu(h)\n",
    "        h = self.conv2(g, h)\n",
    "        return h"
   ]
  },
  {
   "cell_type": "code",
   "execution_count": 77,
   "metadata": {},
   "outputs": [],
   "source": [
    "import dgl.function as fn\n",
    "\n",
    "\n",
    "class DotPredictor(nn.Module):\n",
    "    def forward(self, g, h):\n",
    "        with g.local_scope():\n",
    "            g.ndata[\"h\"] = h\n",
    "            # Compute a new edge feature named 'score' by a dot-product between the\n",
    "            # source node feature 'h' and destination node feature 'h'.\n",
    "            g.apply_edges(fn.u_dot_v(\"h\", \"h\", \"score\"))\n",
    "            # u_dot_v returns a 1-element vector for each edge so you need to squeeze it.\n",
    "            return g.edata[\"score\"][:, 0]"
   ]
  },
  {
   "cell_type": "code",
   "execution_count": 91,
   "metadata": {},
   "outputs": [],
   "source": [
    "from sklearn import metrics\n",
    "def compute_loss(pos_score, neg_score):\n",
    "    scores = torch.cat([pos_score, neg_score])\n",
    "    labels = torch.cat(\n",
    "        [torch.ones(pos_score.shape[0]), torch.zeros(neg_score.shape[0])]\n",
    "    )\n",
    "    return F.binary_cross_entropy_with_logits(scores, labels)\n",
    "\n",
    "\n",
    "def compute_auc(pos_score, neg_score):\n",
    "    scores = torch.cat([pos_score, neg_score]).numpy()\n",
    "    labels = torch.cat(\n",
    "        [torch.ones(pos_score.shape[0]), torch.zeros(neg_score.shape[0])]\n",
    "    ).numpy()\n",
    "\n",
    "\n",
    "    fpr, tpr, thresholds = metrics.roc_curve(labels, scores)\n",
    "    roc_auc = metrics.auc(fpr, tpr)\n",
    "    display = metrics.RocCurveDisplay(fpr=fpr, tpr=tpr, roc_auc=roc_auc,\n",
    "                                    estimator_name='example estimator')\n",
    "    \n",
    "    display.plot()\n",
    "\n",
    "    return roc_auc_score(labels, scores)"
   ]
  },
  {
   "cell_type": "markdown",
   "metadata": {},
   "source": [
    "#### 6. Training and Evaluation"
   ]
  },
  {
   "cell_type": "code",
   "execution_count": 88,
   "metadata": {},
   "outputs": [
    {
     "name": "stdout",
     "output_type": "stream",
     "text": [
      "In epoch 0, train loss: 5.777384281158447, val loss: 5.976321220397949\n",
      "In epoch 10, train loss: 0.7151042819023132, val loss: 0.7201021313667297\n",
      "In epoch 20, train loss: 0.706423282623291, val loss: 0.7086357474327087\n",
      "In epoch 30, train loss: 0.6970089673995972, val loss: 0.6993615627288818\n",
      "In epoch 40, train loss: 0.6901358366012573, val loss: 0.6933633089065552\n",
      "In epoch 50, train loss: 0.684930682182312, val loss: 0.6898812651634216\n",
      "In epoch 60, train loss: 0.6804243922233582, val loss: 0.6871872544288635\n",
      "In epoch 70, train loss: 0.6760817170143127, val loss: 0.685440719127655\n",
      "In epoch 80, train loss: 0.6718317270278931, val loss: 0.6846066117286682\n",
      "In epoch 90, train loss: 0.6673729419708252, val loss: 0.6837764978408813\n",
      "In epoch 100, train loss: 0.662354052066803, val loss: 0.6858038306236267\n",
      "In epoch 110, train loss: 0.6578726768493652, val loss: 0.6833468675613403\n",
      "In epoch 120, train loss: 0.6528139710426331, val loss: 0.6830484867095947\n",
      "In epoch 130, train loss: 0.6482229828834534, val loss: 0.6805981993675232\n",
      "In epoch 140, train loss: 0.6440012454986572, val loss: 0.6782068610191345\n",
      "In epoch 150, train loss: 0.6403003931045532, val loss: 0.6748272180557251\n",
      "In epoch 160, train loss: 0.6366104483604431, val loss: 0.6708424687385559\n",
      "In epoch 170, train loss: 0.6323471665382385, val loss: 0.6674687266349792\n",
      "In epoch 180, train loss: 0.6282051801681519, val loss: 0.6636439561843872\n",
      "In epoch 190, train loss: 0.6208604574203491, val loss: 0.6594406962394714\n"
     ]
    }
   ],
   "source": [
    "model = GraphSAGE(g.ndata[\"feat\"].shape[1], 16)\n",
    "pred = DotPredictor()\n",
    "\n",
    "optimizer = torch.optim.Adam(\n",
    "    itertools.chain(model.parameters(), pred.parameters()), lr=0.01\n",
    ")\n",
    "\n",
    "\n",
    "all_logits = []\n",
    "train_loss_store = []\n",
    "val_loss_store = []\n",
    "\n",
    "for e in range(200):\n",
    "    # forward\n",
    "    h = model(g, g.ndata['feat'])\n",
    "    train_pos_score = pred(train_pos_g, h)\n",
    "    train_neg_score = pred(train_neg_g, h)\n",
    "    train_loss = compute_loss(train_pos_score, train_neg_score)\n",
    "    train_loss_store = train_loss_store + [train_loss.detach().item()]\n",
    "\n",
    "    # backward\n",
    "    optimizer.zero_grad()\n",
    "    train_loss.backward()\n",
    "    optimizer.step()\n",
    "\n",
    "    # evaluate val loss and store \n",
    "    val_pos_score = pred(val_pos_g, h)\n",
    "    val_neg_score = pred(val_neg_g, h)\n",
    "    val_loss = compute_loss(val_pos_score, val_neg_score)\n",
    "    val_loss_store = val_loss_store + [val_loss.detach().item()]\n",
    "\n",
    "\n",
    "    if e % 10 == 0:\n",
    "        print(\"In epoch {}, train loss: {}, val loss: {}\".format(e, train_loss, val_loss))\n"
   ]
  },
  {
   "cell_type": "code",
   "execution_count": 89,
   "metadata": {},
   "outputs": [
    {
     "data": {
      "image/png": "[encoded data removed]",
      "text/plain": [
       "<Figure size 640x480 with 1 Axes>"
      ]
     },
     "metadata": {},
     "output_type": "display_data"
    }
   ],
   "source": [
    "# plot training and validation loss over epochs\n",
    "xs = [x for x in range(len(train_loss_store))]\n",
    "plt.plot(xs, train_loss_store, label='train loss')\n",
    "plt.plot(xs, val_loss_store, label='val loss')\n",
    "plt.legend()\n",
    "plt.show()"
   ]
  },
  {
   "cell_type": "code",
   "execution_count": 92,
   "metadata": {},
   "outputs": [
    {
     "name": "stdout",
     "output_type": "stream",
     "text": [
      "AUC 0.6810624161636485\n"
     ]
    },
    {
     "data": {
      "image/png": "[encoded data removed]",
      "text/plain": [
       "<Figure size 640x480 with 1 Axes>"
      ]
     },
     "metadata": {},
     "output_type": "display_data"
    }
   ],
   "source": [
    "# Evaluate on Test Set\n",
    "with torch.no_grad():\n",
    "    test_pos_score = pred(test_pos_g, h)\n",
    "    test_neg_score = pred(test_neg_g, h)\n",
    "    print(\"AUC\", compute_auc(test_pos_score, test_neg_score))"
   ]
  },
  {
   "cell_type": "markdown",
   "metadata": {},
   "source": [
    "The AUC score is low, and the ROC-AUC curve is very poor compared to the baseline model. This is likely due to insufficient information encoded in the features. "
   ]
  }
 ],
 "metadata": {
  "kernelspec": {
   "display_name": "env",
   "language": "python",
   "name": "python3"
  },
  "language_info": {
   "codemirror_mode": {
    "name": "ipython",
    "version": 3
   },
   "file_extension": ".py",
   "mimetype": "text/x-python",
   "name": "python",
   "nbconvert_exporter": "python",
   "pygments_lexer": "ipython3",
   "version": "3.7.17"
  }
 },
 "nbformat": 4,
 "nbformat_minor": 2
}
