{
 "cells": [
  {
   "cell_type": "markdown",
   "metadata": {},
   "source": [
    "## This notebook is the baseline model using Bag of Words to generate features"
   ]
  },
  {
   "cell_type": "code",
   "execution_count": 46,
   "metadata": {},
   "outputs": [],
   "source": [
    "import pandas as pd\n",
    "import dgl \n",
    "import torch\n",
    "import torch.nn as nn\n",
    "import torch.nn.functional as F\n",
    "import itertools\n",
    "import numpy as np\n",
    "# import scipy.sparse as sp\n",
    "from sklearn.feature_extraction.text import CountVectorizer\n",
    "from sklearn.preprocessing import LabelEncoder\n",
    "from sklearn.metrics import roc_auc_score\n",
    "import matplotlib.pyplot as plt"
   ]
  },
  {
   "cell_type": "markdown",
   "metadata": {},
   "source": [
    "#### 1. Read in files, and reduce problem statement to only nodes present in ground truth \n",
    "\n",
    "I've limited the sample space due to computational limitations. It will only consider the nodes and edges that have been labelled from the ground truth file"
   ]
  },
  {
   "cell_type": "code",
   "execution_count": 3,
   "metadata": {},
   "outputs": [],
   "source": [
    "edges = pd.read_csv('input/Edges.csv', index_col=0)\n",
    "ground = pd.read_csv('processed/ground_split.csv')\n",
    "nodes = pd.read_csv('input/Nodes.csv', index_col=0)"
   ]
  },
  {
   "cell_type": "code",
   "execution_count": 4,
   "metadata": {},
   "outputs": [],
   "source": [
    "# get all node names in the ground truth\n",
    "unique_nodes = pd.DataFrame(set(ground.source).union(set(ground.target)), columns=['gt_nodes'])\n",
    "\n",
    "# reduce problem statement to only take nodes that are in the source or target from the ground truth \n",
    "baseline_nodes = pd.merge(left=unique_nodes, right=nodes, left_on='gt_nodes', right_on='id', how='inner')\n",
    "baseline_nodes = baseline_nodes[['id','name', 'category', 'description']]\n",
    "baseline_nodes = baseline_nodes.reset_index()\n",
    "\n",
    "# give new nodes a unique id - requirement of dgl\n",
    "# note: dgl has support for named nodes but I was having issues here due to special characters\n",
    "baseline_nodes_dict = dict(zip(baseline_nodes.id, baseline_nodes.index))"
   ]
  },
  {
   "cell_type": "code",
   "execution_count": 5,
   "metadata": {},
   "outputs": [],
   "source": [
    "# map ground truth source and target names to ids provided by baseline node dictionary\n",
    "ground.source = ground.source.apply(lambda x: baseline_nodes_dict[x])\n",
    "ground.target = ground.target.apply(lambda x: baseline_nodes_dict[x])"
   ]
  },
  {
   "cell_type": "markdown",
   "metadata": {},
   "source": [
    "#### 2. Split edges into train, test and validation sets"
   ]
  },
  {
   "cell_type": "code",
   "execution_count": 9,
   "metadata": {},
   "outputs": [],
   "source": [
    "# train set - positive and negative nodes and edges\n",
    "train_pos_u = np.array(ground[(ground.y==1) & (ground.split=='train')].source)\n",
    "train_pos_v = np.array(ground[(ground.y==1) & (ground.split=='train')].target)\n",
    "\n",
    "train_neg_u = np.array(ground[(ground.y==0) & (ground.split=='train')].source)\n",
    "train_neg_v = np.array(ground[(ground.y==0) & (ground.split=='train')].target)\n",
    "\n",
    "# val set - positive and negative nodes and edges\n",
    "val_pos_u = np.array(ground[(ground.y==1) & (ground.split=='val')].source)\n",
    "val_pos_v = np.array(ground[(ground.y==1) & (ground.split=='val')].target)\n",
    "\n",
    "val_neg_u = np.array(ground[(ground.y==0) & (ground.split=='val')].source)\n",
    "val_neg_v = np.array(ground[(ground.y==0) & (ground.split=='val')].target)\n",
    "\n",
    "# test set - positive and negative nodes and edges\n",
    "test_pos_u = np.array(ground[(ground.y==1) & (ground.split=='test')].source)\n",
    "test_pos_v = np.array(ground[(ground.y==1) & (ground.split=='test')].target)\n",
    "\n",
    "test_neg_u = np.array(ground[(ground.y==0) & (ground.split=='test')].source)\n",
    "test_neg_v = np.array(ground[(ground.y==0) & (ground.split=='test')].target)\n"
   ]
  },
  {
   "cell_type": "code",
   "execution_count": 10,
   "metadata": {},
   "outputs": [],
   "source": [
    "# reconstruct posive and negative graphs for train, test and validation\n",
    "train_pos_g = dgl.graph((train_pos_u, train_pos_v), num_nodes=len(unique_nodes))\n",
    "train_neg_g = dgl.graph((train_neg_u, train_neg_v), num_nodes=len(unique_nodes))\n",
    "\n",
    "val_pos_g = dgl.graph((val_pos_u, val_pos_v), num_nodes=len(unique_nodes))\n",
    "val_neg_g = dgl.graph((val_neg_u, val_neg_v), num_nodes=len(unique_nodes))\n",
    "\n",
    "test_pos_g = dgl.graph((test_pos_u, test_pos_v), num_nodes=len(unique_nodes))\n",
    "test_neg_g = dgl.graph((test_neg_u, test_neg_v), num_nodes=len(unique_nodes))"
   ]
  },
  {
   "cell_type": "markdown",
   "metadata": {},
   "source": [
    "#### 3. Feature Extraction on Nodes\n",
    "\n",
    "Features considered for this model are: \n",
    "\n",
    "1. Node type/category\n",
    "2. Node Name + Description as BoW vector"
   ]
  },
  {
   "cell_type": "code",
   "execution_count": 11,
   "metadata": {},
   "outputs": [],
   "source": [
    "# label encode category in baseline nodes\n",
    "label_encoder = LabelEncoder()\n",
    "baseline_nodes.category = label_encoder.fit_transform(baseline_nodes.category)"
   ]
  },
  {
   "cell_type": "code",
   "execution_count": 32,
   "metadata": {},
   "outputs": [],
   "source": [
    "# turn description and names into features\n",
    "# note: using BoW here, but I'm intentioanlly not doing additional processing beyond removing stop words\n",
    "# I'm conscious that processsing capitalisation and intentional use of punctuation like D(2) or Calcipression-1\n",
    "# might alter the meaning of the description significantly\n",
    "\n",
    "# fill NaNs with empty string \n",
    "baseline_nodes.fillna('', inplace=True)\n",
    "\n",
    "# join name and description to get more information \n",
    "baseline_nodes['full_description'] = baseline_nodes.name + ' ' + baseline_nodes.description\n",
    "\n",
    "vectorizer = CountVectorizer(stop_words='english', lowercase=False, token_pattern=r\"[a-zA-Z0-9_-]+\", min_df=0.01)\n",
    "bow = vectorizer.fit_transform(baseline_nodes.full_description)\n",
    "bow = bow.toarray()\n",
    "vocab = vectorizer.get_feature_names_out()\n"
   ]
  },
  {
   "cell_type": "markdown",
   "metadata": {},
   "source": [
    "To utilise DGL's CSVDataset Class. Features must be saved under a single column named `feat`, consisting of a single 'array' saved as a string \n",
    "\n",
    "e.g. [Node Category, 5 word vector] -> \"1, 0.56, 0.90, 0.85, 0.12, 0.82\""
   ]
  },
  {
   "cell_type": "code",
   "execution_count": 33,
   "metadata": {},
   "outputs": [],
   "source": [
    "# create feature column \n",
    "feat_arr = np.c_[baseline_nodes.category.values, bow]\n",
    "feat_arr = feat_arr.astype('float')\n",
    "feat = []\n",
    "\n",
    "# save features in the expected format\n",
    "for f in feat_arr.tolist(): \n",
    "    f = str(f)\n",
    "    f = f.replace('[', '')\n",
    "    f = f.replace(']', '')\n",
    "    feat = feat + [f]\n",
    "\n",
    "baseline_nodes['feat'] = feat"
   ]
  },
  {
   "cell_type": "markdown",
   "metadata": {},
   "source": [
    "#### 4. Save nodes, features and edges to graph"
   ]
  },
  {
   "cell_type": "code",
   "execution_count": 34,
   "metadata": {},
   "outputs": [],
   "source": [
    "# save nodes and edges to baseline folder\n",
    "baseline_nodes.rename({'index':'node_id'}, axis=1)[['node_id', 'feat']].to_csv('processed/baseline/baseline_nodes.csv', index=0)\n",
    "ground[(ground.y==1)&(ground.split=='train')].rename({'source':'src_id', 'target':'dst_id'}, axis=1)[['src_id', 'dst_id']].to_csv('processed/baseline/baseline_edges.csv', index=0)"
   ]
  },
  {
   "cell_type": "code",
   "execution_count": 40,
   "metadata": {},
   "outputs": [
    {
     "name": "stdout",
     "output_type": "stream",
     "text": [
      "Done saving data into cached files.\n"
     ]
    }
   ],
   "source": [
    "# load into dgl dataset tensor\n",
    "dataset = dgl.data.CSVDataset('processed/baseline', force_reload=True)\n",
    "g = dataset[0]"
   ]
  },
  {
   "cell_type": "markdown",
   "metadata": {},
   "source": [
    "#### 5. Define model and predictor"
   ]
  },
  {
   "cell_type": "code",
   "execution_count": 41,
   "metadata": {},
   "outputs": [],
   "source": [
    "from dgl.nn import SAGEConv\n",
    "\n",
    "# build a two-layer GraphSAGE model\n",
    "class GraphSAGE(nn.Module):\n",
    "    def __init__(self, in_feats, h_feats):\n",
    "        super(GraphSAGE, self).__init__()\n",
    "        self.conv1 = SAGEConv(in_feats, h_feats, \"mean\")\n",
    "        self.conv2 = SAGEConv(h_feats, h_feats, \"mean\")\n",
    "\n",
    "    def forward(self, g, in_feat):\n",
    "        h = self.conv1(g, in_feat)\n",
    "        h = F.relu(h)\n",
    "        h = self.conv2(g, h)\n",
    "        return h"
   ]
  },
  {
   "cell_type": "code",
   "execution_count": 42,
   "metadata": {},
   "outputs": [],
   "source": [
    "import dgl.function as fn\n",
    "\n",
    "\n",
    "class DotPredictor(nn.Module):\n",
    "    def forward(self, g, h):\n",
    "        with g.local_scope():\n",
    "            g.ndata[\"h\"] = h\n",
    "            # Compute a new edge feature named 'score' by a dot-product between the\n",
    "            # source node feature 'h' and destination node feature 'h'.\n",
    "            g.apply_edges(fn.u_dot_v(\"h\", \"h\", \"score\"))\n",
    "            # u_dot_v returns a 1-element vector for each edge so you need to squeeze it.\n",
    "            return g.edata[\"score\"][:, 0]"
   ]
  },
  {
   "cell_type": "code",
   "execution_count": 87,
   "metadata": {},
   "outputs": [],
   "source": [
    "from sklearn import metrics\n",
    "def compute_loss(pos_score, neg_score):\n",
    "    scores = torch.cat([pos_score, neg_score])\n",
    "    labels = torch.cat(\n",
    "        [torch.ones(pos_score.shape[0]), torch.zeros(neg_score.shape[0])]\n",
    "    )\n",
    "    return F.binary_cross_entropy_with_logits(scores, labels)\n",
    "\n",
    "\n",
    "def compute_auc(pos_score, neg_score):\n",
    "    scores = torch.cat([pos_score, neg_score]).numpy()\n",
    "    labels = torch.cat(\n",
    "        [torch.ones(pos_score.shape[0]), torch.zeros(neg_score.shape[0])]\n",
    "    ).numpy()\n",
    "\n",
    "\n",
    "    fpr, tpr, thresholds = metrics.roc_curve(labels, scores)\n",
    "    roc_auc = metrics.auc(fpr, tpr)\n",
    "    display = metrics.RocCurveDisplay(fpr=fpr, tpr=tpr, roc_auc=roc_auc,\n",
    "                                    estimator_name='example estimator')\n",
    "    \n",
    "    display.plot()\n",
    "\n",
    "    return roc_auc_score(labels, scores)"
   ]
  },
  {
   "cell_type": "markdown",
   "metadata": {},
   "source": [
    "#### 6. Training and Evaluation"
   ]
  },
  {
   "cell_type": "code",
   "execution_count": 76,
   "metadata": {},
   "outputs": [
    {
     "name": "stdout",
     "output_type": "stream",
     "text": [
      "In epoch 0, train loss: 1.7181769609451294, val loss: 1.743585228919983\n",
      "In epoch 10, train loss: 0.5720990300178528, val loss: 0.5661841034889221\n",
      "In epoch 20, train loss: 0.44317975640296936, val loss: 0.46365222334861755\n",
      "In epoch 30, train loss: 0.35576626658439636, val loss: 0.390664666891098\n",
      "In epoch 40, train loss: 0.3032337427139282, val loss: 0.3718283474445343\n",
      "In epoch 50, train loss: 0.2636348605155945, val loss: 0.35700681805610657\n",
      "In epoch 60, train loss: 0.23120273649692535, val loss: 0.3409288227558136\n",
      "In epoch 70, train loss: 0.20966938138008118, val loss: 0.34212735295295715\n",
      "In epoch 80, train loss: 0.19247430562973022, val loss: 0.34084805846214294\n",
      "In epoch 90, train loss: 0.1775183528661728, val loss: 0.34565073251724243\n",
      "In epoch 100, train loss: 0.16414521634578705, val loss: 0.3478551506996155\n",
      "In epoch 110, train loss: 0.15352196991443634, val loss: 0.3539140224456787\n",
      "In epoch 120, train loss: 0.14445547759532928, val loss: 0.3550816774368286\n",
      "In epoch 130, train loss: 0.13663458824157715, val loss: 0.36012741923332214\n",
      "In epoch 140, train loss: 0.12919028103351593, val loss: 0.36565837264060974\n",
      "In epoch 150, train loss: 0.12225032597780228, val loss: 0.37554094195365906\n",
      "In epoch 160, train loss: 0.11781726777553558, val loss: 0.38202956318855286\n",
      "In epoch 170, train loss: 0.11142858862876892, val loss: 0.38957083225250244\n",
      "In epoch 180, train loss: 0.10649260133504868, val loss: 0.39677685499191284\n",
      "In epoch 190, train loss: 0.10390768200159073, val loss: 0.4103175401687622\n"
     ]
    }
   ],
   "source": [
    "model = GraphSAGE(g.ndata[\"feat\"].shape[1], 16)\n",
    "pred = DotPredictor()\n",
    "\n",
    "optimizer = torch.optim.Adam(\n",
    "    itertools.chain(model.parameters(), pred.parameters()), lr=0.01\n",
    ")\n",
    "\n",
    "\n",
    "all_logits = []\n",
    "train_loss_store = []\n",
    "val_loss_store = []\n",
    "\n",
    "for e in range(200):\n",
    "    # forward\n",
    "    h = model(g, g.ndata['feat'])\n",
    "    train_pos_score = pred(train_pos_g, h)\n",
    "    train_neg_score = pred(train_neg_g, h)\n",
    "    train_loss = compute_loss(train_pos_score, train_neg_score)\n",
    "    train_loss_store = train_loss_store + [train_loss.detach().item()]\n",
    "\n",
    "    # backward\n",
    "    optimizer.zero_grad()\n",
    "    train_loss.backward()\n",
    "    optimizer.step()\n",
    "\n",
    "    # evaluate val loss and store \n",
    "    val_pos_score = pred(val_pos_g, h)\n",
    "    val_neg_score = pred(val_neg_g, h)\n",
    "    val_loss = compute_loss(val_pos_score, val_neg_score)\n",
    "    val_loss_store = val_loss_store + [val_loss.detach().item()]\n",
    "\n",
    "\n",
    "    if e % 10 == 0:\n",
    "        print(\"In epoch {}, train loss: {}, val loss: {}\".format(e, train_loss, val_loss))\n",
    "\n",
    "\n"
   ]
  },
  {
   "cell_type": "code",
   "execution_count": 77,
   "metadata": {},
   "outputs": [
    {
     "data": {
      "image/png": "[encoded data removed]",
      "text/plain": [
       "<Figure size 640x480 with 1 Axes>"
      ]
     },
     "metadata": {},
     "output_type": "display_data"
    }
   ],
   "source": [
    "# plot training and validation loss over epochs\n",
    "xs = [x for x in range(len(train_loss_store))]\n",
    "plt.plot(xs, train_loss_store, label='train loss')\n",
    "plt.plot(xs, val_loss_store, label='val loss')\n",
    "plt.legend()\n",
    "plt.show()"
   ]
  },
  {
   "cell_type": "code",
   "execution_count": 88,
   "metadata": {},
   "outputs": [
    {
     "name": "stdout",
     "output_type": "stream",
     "text": [
      "AUC 0.9549900968309859\n"
     ]
    },
    {
     "data": {
      "image/png": "[encoded data removed]",
      "text/plain": [
       "<Figure size 640x480 with 1 Axes>"
      ]
     },
     "metadata": {},
     "output_type": "display_data"
    }
   ],
   "source": [
    "# Evaluate on Test Set\n",
    "with torch.no_grad():\n",
    "    test_pos_score = pred(test_pos_g, h)\n",
    "    test_neg_score = pred(test_neg_g, h)\n",
    "    print(\"AUC\", compute_auc(test_pos_score, test_neg_score))"
   ]
  },
  {
   "cell_type": "markdown",
   "metadata": {},
   "source": [
    "The AUC is very high at 0.95, and the ROC-AUC curve also appears to be very balanced, this gives confidence to the model's accuracy"
   ]
  }
 ],
 "metadata": {
  "kernelspec": {
   "display_name": "env",
   "language": "python",
   "name": "python3"
  },
  "language_info": {
   "codemirror_mode": {
    "name": "ipython",
    "version": 3
   },
   "file_extension": ".py",
   "mimetype": "text/x-python",
   "name": "python",
   "nbconvert_exporter": "python",
   "pygments_lexer": "ipython3",
   "version": "3.7.17"
  }
 },
 "nbformat": 4,
 "nbformat_minor": 2
}
